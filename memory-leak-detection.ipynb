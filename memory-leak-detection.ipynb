{
 "cells": [
  {
   "cell_type": "markdown",
   "id": "a03f27ca",
   "metadata": {},
   "source": [
    "# Memory Leak Detection"
   ]
  },
  {
   "cell_type": "markdown",
   "id": "cf4432ab",
   "metadata": {},
   "source": [
    "## What is memory leak ?\n",
    "Memory leak is a condition that occurs when a developer creates an allocation of a memory but then does not deallocate it. The behaviour of memory usage varies from one programming language to another. In a few programming languages such as C or C++, as a developer we can dynamically allocate memory for our use. In another language such as Java, the operating system has the ability to allocate and deallocate memory automatically with the use of a garbage collector. Then why is it important for us to give attention to memory allocation? Careless memory allocation can cause memory leak which leads to decrease in performance allocation or even crash."
   ]
  },
  {
   "cell_type": "code",
   "execution_count": 2,
   "id": "a9ad93cd",
   "metadata": {},
   "outputs": [],
   "source": [
    "import pandas as pd\n",
    "import matplotlib.pyplot as plt\n",
    "%matplotlib inline"
   ]
  },
  {
   "cell_type": "code",
   "execution_count": 13,
   "id": "eacf6993",
   "metadata": {},
   "outputs": [
    {
     "data": {
      "text/html": [
       "<div>\n",
       "<style scoped>\n",
       "    .dataframe tbody tr th:only-of-type {\n",
       "        vertical-align: middle;\n",
       "    }\n",
       "\n",
       "    .dataframe tbody tr th {\n",
       "        vertical-align: top;\n",
       "    }\n",
       "\n",
       "    .dataframe thead th {\n",
       "        text-align: right;\n",
       "    }\n",
       "</style>\n",
       "<table border=\"1\" class=\"dataframe\">\n",
       "  <thead>\n",
       "    <tr style=\"text-align: right;\">\n",
       "      <th></th>\n",
       "      <th>Unnamed: 0</th>\n",
       "      <th>time</th>\n",
       "      <th>percentage</th>\n",
       "    </tr>\n",
       "  </thead>\n",
       "  <tbody>\n",
       "    <tr>\n",
       "      <th>0</th>\n",
       "      <td>2</td>\n",
       "      <td>20</td>\n",
       "      <td>6.2</td>\n",
       "    </tr>\n",
       "    <tr>\n",
       "      <th>1</th>\n",
       "      <td>4</td>\n",
       "      <td>21</td>\n",
       "      <td>6.4</td>\n",
       "    </tr>\n",
       "    <tr>\n",
       "      <th>2</th>\n",
       "      <td>6</td>\n",
       "      <td>22</td>\n",
       "      <td>6.8</td>\n",
       "    </tr>\n",
       "    <tr>\n",
       "      <th>3</th>\n",
       "      <td>8</td>\n",
       "      <td>23</td>\n",
       "      <td>7.2</td>\n",
       "    </tr>\n",
       "    <tr>\n",
       "      <th>4</th>\n",
       "      <td>9</td>\n",
       "      <td>24</td>\n",
       "      <td>7.2</td>\n",
       "    </tr>\n",
       "  </tbody>\n",
       "</table>\n",
       "</div>"
      ],
      "text/plain": [
       "   Unnamed: 0  time  percentage\n",
       "0           2    20         6.2\n",
       "1           4    21         6.4\n",
       "2           6    22         6.8\n",
       "3           8    23         7.2\n",
       "4           9    24         7.2"
      ]
     },
     "execution_count": 13,
     "metadata": {},
     "output_type": "execute_result"
    }
   ],
   "source": [
    "df_leak = pd.read_csv(\"sample-leak-1.csv\")\n",
    "\n",
    "df_leak.head()"
   ]
  },
  {
   "cell_type": "code",
   "execution_count": 15,
   "id": "a4a3260c",
   "metadata": {},
   "outputs": [
    {
     "data": {
      "text/html": [
       "<div>\n",
       "<style scoped>\n",
       "    .dataframe tbody tr th:only-of-type {\n",
       "        vertical-align: middle;\n",
       "    }\n",
       "\n",
       "    .dataframe tbody tr th {\n",
       "        vertical-align: top;\n",
       "    }\n",
       "\n",
       "    .dataframe thead th {\n",
       "        text-align: right;\n",
       "    }\n",
       "</style>\n",
       "<table border=\"1\" class=\"dataframe\">\n",
       "  <thead>\n",
       "    <tr style=\"text-align: right;\">\n",
       "      <th></th>\n",
       "      <th>Unnamed: 0</th>\n",
       "      <th>time</th>\n",
       "      <th>percentage</th>\n",
       "    </tr>\n",
       "  </thead>\n",
       "  <tbody>\n",
       "    <tr>\n",
       "      <th>0</th>\n",
       "      <td>1</td>\n",
       "      <td>32</td>\n",
       "      <td>14.325</td>\n",
       "    </tr>\n",
       "    <tr>\n",
       "      <th>1</th>\n",
       "      <td>3</td>\n",
       "      <td>35</td>\n",
       "      <td>14.325</td>\n",
       "    </tr>\n",
       "    <tr>\n",
       "      <th>2</th>\n",
       "      <td>4</td>\n",
       "      <td>37</td>\n",
       "      <td>14.525</td>\n",
       "    </tr>\n",
       "    <tr>\n",
       "      <th>3</th>\n",
       "      <td>5</td>\n",
       "      <td>40</td>\n",
       "      <td>14.525</td>\n",
       "    </tr>\n",
       "    <tr>\n",
       "      <th>4</th>\n",
       "      <td>6</td>\n",
       "      <td>42</td>\n",
       "      <td>14.725</td>\n",
       "    </tr>\n",
       "  </tbody>\n",
       "</table>\n",
       "</div>"
      ],
      "text/plain": [
       "   Unnamed: 0  time  percentage\n",
       "0           1    32      14.325\n",
       "1           3    35      14.325\n",
       "2           4    37      14.525\n",
       "3           5    40      14.525\n",
       "4           6    42      14.725"
      ]
     },
     "execution_count": 15,
     "metadata": {},
     "output_type": "execute_result"
    }
   ],
   "source": [
    "df_no_leak = pd.read_csv(\"sample-no-leak-1.csv\")\n",
    "\n",
    "df_no_leak.head()"
   ]
  },
  {
   "cell_type": "markdown",
   "id": "e34ffcc6",
   "metadata": {},
   "source": [
    "the data consist of two columns, 'time' represents the timestamp of a certain memory utilization and percentage represents the memory utilization percentage"
   ]
  },
  {
   "cell_type": "code",
   "execution_count": 4,
   "id": "8ebed908",
   "metadata": {},
   "outputs": [
    {
     "data": {
      "text/plain": [
       "307"
      ]
     },
     "execution_count": 4,
     "metadata": {},
     "output_type": "execute_result"
    }
   ],
   "source": [
    "len(df)"
   ]
  },
  {
   "cell_type": "code",
   "execution_count": 11,
   "id": "16faaa9d",
   "metadata": {},
   "outputs": [],
   "source": [
    "def plot_memory_graph(df):\n",
    "    ax = plt.gca()\n",
    "    ax.set_ylim([0, 100])\n",
    "    ax.plot(df[\"time\"], df[\"percentage\"])"
   ]
  },
  {
   "cell_type": "markdown",
   "id": "3fb17e0b",
   "metadata": {},
   "source": [
    "### Memory Leak Example"
   ]
  },
  {
   "cell_type": "code",
   "execution_count": 14,
   "id": "75aff735",
   "metadata": {},
   "outputs": [
    {
     "data": {
      "image/png": "[encoded data removed]",
      "text/plain": [
       "<Figure size 432x288 with 1 Axes>"
      ]
     },
     "metadata": {
      "needs_background": "light"
     },
     "output_type": "display_data"
    }
   ],
   "source": [
    "plot_memory_graph(df_leak)"
   ]
  },
  {
   "cell_type": "markdown",
   "id": "4e32f5c1",
   "metadata": {},
   "source": [
    "we can see from the graph above that there is an indication of a memory leak from the steep and huge growth from 450th minute to 650th minute."
   ]
  },
  {
   "cell_type": "markdown",
   "id": "11dbebfc",
   "metadata": {},
   "source": [
    "### No Memory Leak Example"
   ]
  },
  {
   "cell_type": "code",
   "execution_count": 16,
   "id": "956d3a05",
   "metadata": {},
   "outputs": [
    {
     "data": {
      "image/png": "[encoded data removed]",
      "text/plain": [
       "<Figure size 432x288 with 1 Axes>"
      ]
     },
     "metadata": {
      "needs_background": "light"
     },
     "output_type": "display_data"
    }
   ],
   "source": [
    "plot_memory_graph(df_no_leak)"
   ]
  },
  {
   "cell_type": "markdown",
   "id": "f009dae5",
   "metadata": {},
   "source": [
    "this graph shows a relatively slow growth compared to the memory leak graph above"
   ]
  },
  {
   "cell_type": "markdown",
   "id": "3abaf3fd",
   "metadata": {},
   "source": [
    "## Linear Backward Regression"
   ]
  },
  {
   "cell_type": "code",
   "execution_count": 6,
   "id": "15279247",
   "metadata": {},
   "outputs": [],
   "source": [
    "from sklearn import linear_model\n",
    "from sklearn.metrics import r2_score\n"
   ]
  },
  {
   "cell_type": "code",
   "execution_count": 7,
   "id": "951092e4",
   "metadata": {},
   "outputs": [],
   "source": [
    "def linear_backward_regression(df):\n",
    "    anomaly = [0 for i in range(len(df))]\n",
    "    \n",
    "    window_size = 100\n",
    "    critical_time = 100\n",
    "    r_min = 0.8\n",
    "    max_util = 100\n",
    "    \n",
    "    i = 2\n",
    "    while i <= len(df) and i <= window_size:\n",
    "        timestamps = df[-i:]\n",
    "        \n",
    "        model = linear_model.LinearRegression()\n",
    "        model.fit(timestamps[[\"time\"]], timestamps[\"percentage\"])\n",
    "        \n",
    "        coef = model.coef_\n",
    "        intercept = model.intercept_\n",
    "        \n",
    "        time_to_max_util = (max_util - intercept) / coef\n",
    "        time_needed = time_to_max_util - df.loc[[len(df) - 1]][\"time\"].astype(float)\n",
    "        \n",
    "        predicted_value = model.predict(timestamps[[\"time\"]])\n",
    "        true_value = timestamps[\"percentage\"]\n",
    "        \n",
    "        r2 = r2_score(true_value, predicted_value)\n",
    "        \n",
    "        r_valid = r2 >= r_min\n",
    "        time_valid = time_needed <= critical_time\n",
    "        \n",
    "        if r_valid & time_valid.get(key=len(df) - 1):\n",
    "            anomaly[-i:] = [1] * i\n",
    "        \n",
    "        i += 1\n",
    "    \n",
    "    return anomaly"
   ]
  },
  {
   "cell_type": "markdown",
   "id": "f70d9eef",
   "metadata": {},
   "source": [
    "- to improve the accuracy, we should include window_size, critical_time, max_util, r_min into hyperparameter tuning, but since we made this as a custom model, we should do the hyperparameter tuning manually by writing our code, not using the build in utility in sklearn library\n",
    "- hyperparameter tuning also need a lot of data that has been labeled"
   ]
  },
  {
   "cell_type": "code",
   "execution_count": 20,
   "id": "7ef05ed3",
   "metadata": {},
   "outputs": [],
   "source": [
    "anomaly_leak = linear_backward_regression(df_leak)"
   ]
  },
  {
   "cell_type": "code",
   "execution_count": 21,
   "id": "2ba43efd",
   "metadata": {},
   "outputs": [
    {
     "data": {
      "text/html": [
       "<div>\n",
       "<style scoped>\n",
       "    .dataframe tbody tr th:only-of-type {\n",
       "        vertical-align: middle;\n",
       "    }\n",
       "\n",
       "    .dataframe tbody tr th {\n",
       "        vertical-align: top;\n",
       "    }\n",
       "\n",
       "    .dataframe thead th {\n",
       "        text-align: right;\n",
       "    }\n",
       "</style>\n",
       "<table border=\"1\" class=\"dataframe\">\n",
       "  <thead>\n",
       "    <tr style=\"text-align: right;\">\n",
       "      <th></th>\n",
       "      <th>Unnamed: 0</th>\n",
       "      <th>time</th>\n",
       "      <th>percentage</th>\n",
       "      <th>anomaly</th>\n",
       "    </tr>\n",
       "  </thead>\n",
       "  <tbody>\n",
       "    <tr>\n",
       "      <th>0</th>\n",
       "      <td>2</td>\n",
       "      <td>20</td>\n",
       "      <td>6.2</td>\n",
       "      <td>0</td>\n",
       "    </tr>\n",
       "    <tr>\n",
       "      <th>1</th>\n",
       "      <td>4</td>\n",
       "      <td>21</td>\n",
       "      <td>6.4</td>\n",
       "      <td>0</td>\n",
       "    </tr>\n",
       "    <tr>\n",
       "      <th>2</th>\n",
       "      <td>6</td>\n",
       "      <td>22</td>\n",
       "      <td>6.8</td>\n",
       "      <td>0</td>\n",
       "    </tr>\n",
       "    <tr>\n",
       "      <th>3</th>\n",
       "      <td>8</td>\n",
       "      <td>23</td>\n",
       "      <td>7.2</td>\n",
       "      <td>0</td>\n",
       "    </tr>\n",
       "    <tr>\n",
       "      <th>4</th>\n",
       "      <td>9</td>\n",
       "      <td>24</td>\n",
       "      <td>7.2</td>\n",
       "      <td>0</td>\n",
       "    </tr>\n",
       "  </tbody>\n",
       "</table>\n",
       "</div>"
      ],
      "text/plain": [
       "   Unnamed: 0  time  percentage  anomaly\n",
       "0           2    20         6.2        0\n",
       "1           4    21         6.4        0\n",
       "2           6    22         6.8        0\n",
       "3           8    23         7.2        0\n",
       "4           9    24         7.2        0"
      ]
     },
     "execution_count": 21,
     "metadata": {},
     "output_type": "execute_result"
    }
   ],
   "source": [
    "df_leak[\"anomaly\"] = anomaly_leak\n",
    "df_leak.head()"
   ]
  },
  {
   "cell_type": "code",
   "execution_count": 22,
   "id": "51df1a00",
   "metadata": {},
   "outputs": [
    {
     "data": {
      "text/html": [
       "<div>\n",
       "<style scoped>\n",
       "    .dataframe tbody tr th:only-of-type {\n",
       "        vertical-align: middle;\n",
       "    }\n",
       "\n",
       "    .dataframe tbody tr th {\n",
       "        vertical-align: top;\n",
       "    }\n",
       "\n",
       "    .dataframe thead th {\n",
       "        text-align: right;\n",
       "    }\n",
       "</style>\n",
       "<table border=\"1\" class=\"dataframe\">\n",
       "  <thead>\n",
       "    <tr style=\"text-align: right;\">\n",
       "      <th></th>\n",
       "      <th>Unnamed: 0</th>\n",
       "      <th>time</th>\n",
       "      <th>percentage</th>\n",
       "      <th>anomaly</th>\n",
       "    </tr>\n",
       "  </thead>\n",
       "  <tbody>\n",
       "    <tr>\n",
       "      <th>302</th>\n",
       "      <td>315</td>\n",
       "      <td>650</td>\n",
       "      <td>86.4</td>\n",
       "      <td>1</td>\n",
       "    </tr>\n",
       "    <tr>\n",
       "      <th>303</th>\n",
       "      <td>318</td>\n",
       "      <td>651</td>\n",
       "      <td>86.6</td>\n",
       "      <td>1</td>\n",
       "    </tr>\n",
       "    <tr>\n",
       "      <th>304</th>\n",
       "      <td>320</td>\n",
       "      <td>652</td>\n",
       "      <td>86.8</td>\n",
       "      <td>1</td>\n",
       "    </tr>\n",
       "    <tr>\n",
       "      <th>305</th>\n",
       "      <td>325</td>\n",
       "      <td>653</td>\n",
       "      <td>87.2</td>\n",
       "      <td>1</td>\n",
       "    </tr>\n",
       "    <tr>\n",
       "      <th>306</th>\n",
       "      <td>331</td>\n",
       "      <td>654</td>\n",
       "      <td>87.6</td>\n",
       "      <td>1</td>\n",
       "    </tr>\n",
       "  </tbody>\n",
       "</table>\n",
       "</div>"
      ],
      "text/plain": [
       "     Unnamed: 0  time  percentage  anomaly\n",
       "302         315   650        86.4        1\n",
       "303         318   651        86.6        1\n",
       "304         320   652        86.8        1\n",
       "305         325   653        87.2        1\n",
       "306         331   654        87.6        1"
      ]
     },
     "execution_count": 22,
     "metadata": {},
     "output_type": "execute_result"
    }
   ],
   "source": [
    "df_leak.tail()"
   ]
  },
  {
   "cell_type": "markdown",
   "id": "4b258b85",
   "metadata": {},
   "source": [
    "anomaly column with value 0 represent no anomaly found and value 1 represent anomaly found"
   ]
  },
  {
   "cell_type": "code",
   "execution_count": 23,
   "id": "1f22d553",
   "metadata": {},
   "outputs": [
    {
     "data": {
      "text/html": [
       "<div>\n",
       "<style scoped>\n",
       "    .dataframe tbody tr th:only-of-type {\n",
       "        vertical-align: middle;\n",
       "    }\n",
       "\n",
       "    .dataframe tbody tr th {\n",
       "        vertical-align: top;\n",
       "    }\n",
       "\n",
       "    .dataframe thead th {\n",
       "        text-align: right;\n",
       "    }\n",
       "</style>\n",
       "<table border=\"1\" class=\"dataframe\">\n",
       "  <thead>\n",
       "    <tr style=\"text-align: right;\">\n",
       "      <th></th>\n",
       "      <th>Unnamed: 0</th>\n",
       "      <th>time</th>\n",
       "      <th>percentage</th>\n",
       "      <th>anomaly</th>\n",
       "    </tr>\n",
       "  </thead>\n",
       "  <tbody>\n",
       "    <tr>\n",
       "      <th>0</th>\n",
       "      <td>1</td>\n",
       "      <td>32</td>\n",
       "      <td>14.325</td>\n",
       "      <td>0</td>\n",
       "    </tr>\n",
       "    <tr>\n",
       "      <th>1</th>\n",
       "      <td>3</td>\n",
       "      <td>35</td>\n",
       "      <td>14.325</td>\n",
       "      <td>0</td>\n",
       "    </tr>\n",
       "    <tr>\n",
       "      <th>2</th>\n",
       "      <td>4</td>\n",
       "      <td>37</td>\n",
       "      <td>14.525</td>\n",
       "      <td>0</td>\n",
       "    </tr>\n",
       "    <tr>\n",
       "      <th>3</th>\n",
       "      <td>5</td>\n",
       "      <td>40</td>\n",
       "      <td>14.525</td>\n",
       "      <td>0</td>\n",
       "    </tr>\n",
       "    <tr>\n",
       "      <th>4</th>\n",
       "      <td>6</td>\n",
       "      <td>42</td>\n",
       "      <td>14.725</td>\n",
       "      <td>0</td>\n",
       "    </tr>\n",
       "  </tbody>\n",
       "</table>\n",
       "</div>"
      ],
      "text/plain": [
       "   Unnamed: 0  time  percentage  anomaly\n",
       "0           1    32      14.325        0\n",
       "1           3    35      14.325        0\n",
       "2           4    37      14.525        0\n",
       "3           5    40      14.525        0\n",
       "4           6    42      14.725        0"
      ]
     },
     "execution_count": 23,
     "metadata": {},
     "output_type": "execute_result"
    }
   ],
   "source": [
    "anomaly_no_leak = linear_backward_regression(df_no_leak)\n",
    "df_no_leak[\"anomaly\"] = anomaly_no_leak\n",
    "df_no_leak.head()"
   ]
  },
  {
   "cell_type": "code",
   "execution_count": 24,
   "id": "0a8f9843",
   "metadata": {},
   "outputs": [],
   "source": [
    "import matplotlib.pyplot as plt\n",
    "\n",
    "def plot_memory_anomaly_graph(df):\n",
    "    fig, ax = plt.subplots()\n",
    "    fig.subplots_adjust(bottom=0.2, right=0.85)\n",
    "\n",
    "    newax = fig.add_axes(ax.get_position())\n",
    "    newax.patch.set_visible(False)\n",
    "\n",
    "    newax.yaxis.set_label_position('right')\n",
    "    newax.yaxis.set_ticks_position('right')\n",
    "\n",
    "    newax.spines['bottom'].set_position(('outward', 35))\n",
    "\n",
    "    ax.plot(df[\"time\"], df[\"percentage\"], 'r-')\n",
    "    ax.set_xlabel('Time', color='red')\n",
    "    ax.set_ylabel('Percentage', color='red')\n",
    "    ax.set_ylim([0, 100])\n",
    "\n",
    "    newax.yaxis.set_visible(False)\n",
    "    newax.xaxis.set_visible(False)\n",
    "\n",
    "    newax.plot(df[\"time\"], df[\"anomaly\"], 'white')\n",
    "    newax.fill_between(df[\"time\"], df[\"anomaly\"], 'green', alpha=0.5)\n",
    "\n",
    "    plt.show()"
   ]
  },
  {
   "cell_type": "code",
   "execution_count": 25,
   "id": "bb4767ee",
   "metadata": {},
   "outputs": [
    {
     "data": {
      "image/png": "[encoded data removed]",
      "text/plain": [
       "<Figure size 432x288 with 2 Axes>"
      ]
     },
     "metadata": {
      "needs_background": "light"
     },
     "output_type": "display_data"
    }
   ],
   "source": [
    "plot_memory_anomaly_graph(df_leak)"
   ]
  },
  {
   "cell_type": "markdown",
   "id": "58607efc",
   "metadata": {},
   "source": [
    "from the graph above, we can see that our model detected an anomaly or memory leak as we expected"
   ]
  },
  {
   "cell_type": "code",
   "execution_count": 26,
   "id": "23f8e112",
   "metadata": {},
   "outputs": [
    {
     "data": {
      "image/png": "[encoded data removed]",
      "text/plain": [
       "<Figure size 432x288 with 2 Axes>"
      ]
     },
     "metadata": {
      "needs_background": "light"
     },
     "output_type": "display_data"
    }
   ],
   "source": [
    "plot_memory_anomaly_graph(df_no_leak)"
   ]
  },
  {
   "cell_type": "markdown",
   "id": "c2ad54f5",
   "metadata": {},
   "source": [
    "no anomaly or memory leak was detected, as humans we can agree that there is no memory leak here"
   ]
  }
 ],
 "metadata": {
  "kernelspec": {
   "display_name": "Python 3",
   "language": "python",
   "name": "python3"
  },
  "language_info": {
   "codemirror_mode": {
    "name": "ipython",
    "version": 3
   },
   "file_extension": ".py",
   "mimetype": "text/x-python",
   "name": "python",
   "nbconvert_exporter": "python",
   "pygments_lexer": "ipython3",
   "version": "3.8.10"
  }
 },
 "nbformat": 4,
 "nbformat_minor": 5
}
